{
 "cells": [
  {
   "cell_type": "markdown",
   "id": "20524fd1",
   "metadata": {},
   "source": [
    "# Clasificación de Iris"
   ]
  },
  {
   "cell_type": "markdown",
   "id": "f77753b1",
   "metadata": {},
   "source": [
    "✨ Morales Martínez María Esthela"
   ]
  },
  {
   "cell_type": "code",
   "execution_count": 47,
   "id": "f144ca90",
   "metadata": {},
   "outputs": [],
   "source": [
    "from sklearn.datasets import load_iris"
   ]
  },
  {
   "cell_type": "code",
   "execution_count": 2,
   "id": "a58f20a0",
   "metadata": {},
   "outputs": [],
   "source": [
    "# Observar el dataset\n",
    "datos = load_iris()"
   ]
  },
  {
   "cell_type": "code",
   "execution_count": 3,
   "id": "f7933df6",
   "metadata": {},
   "outputs": [],
   "source": [
    "# Separar los datos de entrenamiento y prueba\n",
    "from sklearn.model_selection import train_test_split\n",
    "\n",
    "x = datos.data\n",
    "Y = datos.target"
   ]
  },
  {
   "cell_type": "code",
   "execution_count": 4,
   "id": "d30426bd",
   "metadata": {},
   "outputs": [],
   "source": [
    "X_train, X_test, Y_train, Y_test = train_test_split(x, Y, test_size = 0.2, random_state = 20)"
   ]
  },
  {
   "cell_type": "code",
   "execution_count": 5,
   "id": "838a4c62",
   "metadata": {},
   "outputs": [
    {
     "data": {
      "text/plain": [
       "array([[5.7, 3. , 4.2, 1.2],\n",
       "       [5.6, 3. , 4.1, 1.3],\n",
       "       [5.1, 3.5, 1.4, 0.2],\n",
       "       [5.1, 3.8, 1.6, 0.2],\n",
       "       [4.8, 3.4, 1.6, 0.2],\n",
       "       [4.9, 2.5, 4.5, 1.7],\n",
       "       [6. , 3.4, 4.5, 1.6],\n",
       "       [4.9, 3. , 1.4, 0.2],\n",
       "       [6.4, 3.2, 4.5, 1.5],\n",
       "       [7.4, 2.8, 6.1, 1.9],\n",
       "       [5.7, 2.8, 4.5, 1.3],\n",
       "       [6.1, 2.6, 5.6, 1.4],\n",
       "       [4.9, 3.6, 1.4, 0.1],\n",
       "       [6.7, 3.1, 4.4, 1.4],\n",
       "       [6.3, 3.3, 4.7, 1.6],\n",
       "       [4.7, 3.2, 1.3, 0.2],\n",
       "       [5.4, 3.9, 1.7, 0.4],\n",
       "       [5. , 3.3, 1.4, 0.2],\n",
       "       [5.7, 2.5, 5. , 2. ],\n",
       "       [5.1, 3.8, 1.9, 0.4],\n",
       "       [6.4, 2.8, 5.6, 2.2],\n",
       "       [6.2, 3.4, 5.4, 2.3],\n",
       "       [5.4, 3.4, 1.5, 0.4],\n",
       "       [6.3, 3.3, 6. , 2.5],\n",
       "       [6. , 2.2, 4. , 1. ],\n",
       "       [5.6, 2.9, 3.6, 1.3],\n",
       "       [5.6, 3. , 4.5, 1.5],\n",
       "       [4.5, 2.3, 1.3, 0.3],\n",
       "       [5.1, 3.4, 1.5, 0.2],\n",
       "       [5.5, 2.4, 3.8, 1.1],\n",
       "       [6.2, 2.9, 4.3, 1.3],\n",
       "       [5.8, 2.6, 4. , 1.2],\n",
       "       [5.6, 2.5, 3.9, 1.1],\n",
       "       [6.7, 3.1, 4.7, 1.5],\n",
       "       [6.5, 2.8, 4.6, 1.5],\n",
       "       [5.7, 2.9, 4.2, 1.3],\n",
       "       [5.1, 3.3, 1.7, 0.5],\n",
       "       [6.2, 2.2, 4.5, 1.5],\n",
       "       [6.3, 2.3, 4.4, 1.3],\n",
       "       [4.9, 3.1, 1.5, 0.1],\n",
       "       [4.4, 3. , 1.3, 0.2],\n",
       "       [5.4, 3. , 4.5, 1.5],\n",
       "       [5.5, 2.3, 4. , 1.3],\n",
       "       [6.1, 3. , 4.6, 1.4],\n",
       "       [5.1, 3.8, 1.5, 0.3],\n",
       "       [5.3, 3.7, 1.5, 0.2],\n",
       "       [6.4, 3.2, 5.3, 2.3],\n",
       "       [5.5, 3.5, 1.3, 0.2],\n",
       "       [4.8, 3.1, 1.6, 0.2],\n",
       "       [5. , 2. , 3.5, 1. ],\n",
       "       [6. , 3. , 4.8, 1.8],\n",
       "       [5.8, 2.7, 5.1, 1.9],\n",
       "       [5.6, 2.8, 4.9, 2. ],\n",
       "       [6.3, 2.9, 5.6, 1.8],\n",
       "       [6.4, 2.8, 5.6, 2.1],\n",
       "       [7.1, 3. , 5.9, 2.1],\n",
       "       [5.8, 2.7, 3.9, 1.2],\n",
       "       [6.5, 3. , 5.5, 1.8],\n",
       "       [7.7, 3. , 6.1, 2.3],\n",
       "       [7.2, 3.6, 6.1, 2.5],\n",
       "       [4.4, 2.9, 1.4, 0.2],\n",
       "       [6.8, 3. , 5.5, 2.1],\n",
       "       [5.2, 3.5, 1.5, 0.2],\n",
       "       [5. , 3.6, 1.4, 0.2],\n",
       "       [5.8, 4. , 1.2, 0.2],\n",
       "       [6.7, 3. , 5.2, 2.3],\n",
       "       [6.9, 3.1, 4.9, 1.5],\n",
       "       [5.9, 3.2, 4.8, 1.8],\n",
       "       [6.9, 3.1, 5.4, 2.1],\n",
       "       [6.3, 2.7, 4.9, 1.8],\n",
       "       [5.6, 2.7, 4.2, 1.3],\n",
       "       [4.4, 3.2, 1.3, 0.2],\n",
       "       [6.1, 3. , 4.9, 1.8],\n",
       "       [5.5, 4.2, 1.4, 0.2],\n",
       "       [5. , 2.3, 3.3, 1. ],\n",
       "       [7.7, 3.8, 6.7, 2.2],\n",
       "       [4.8, 3.4, 1.9, 0.2],\n",
       "       [6. , 2.9, 4.5, 1.5],\n",
       "       [6.1, 2.9, 4.7, 1.4],\n",
       "       [6.2, 2.8, 4.8, 1.8],\n",
       "       [4.8, 3. , 1.4, 0.3],\n",
       "       [4.7, 3.2, 1.6, 0.2],\n",
       "       [7.2, 3.2, 6. , 1.8],\n",
       "       [6.7, 3.3, 5.7, 2.5],\n",
       "       [5.2, 2.7, 3.9, 1.4],\n",
       "       [5.5, 2.6, 4.4, 1.2],\n",
       "       [5.7, 2.6, 3.5, 1. ],\n",
       "       [6.7, 3.3, 5.7, 2.1],\n",
       "       [6.7, 3.1, 5.6, 2.4],\n",
       "       [5. , 3.5, 1.6, 0.6],\n",
       "       [6.9, 3.2, 5.7, 2.3],\n",
       "       [5.1, 3.5, 1.4, 0.3],\n",
       "       [6.7, 3. , 5. , 1.7],\n",
       "       [4.6, 3.1, 1.5, 0.2],\n",
       "       [5.7, 3.8, 1.7, 0.3],\n",
       "       [6.3, 2.5, 5. , 1.9],\n",
       "       [6.3, 3.4, 5.6, 2.4],\n",
       "       [7.3, 2.9, 6.3, 1.8],\n",
       "       [5.4, 3.7, 1.5, 0.2],\n",
       "       [5.2, 4.1, 1.5, 0.1],\n",
       "       [6.5, 3.2, 5.1, 2. ],\n",
       "       [6. , 2.7, 5.1, 1.6],\n",
       "       [5.9, 3. , 4.2, 1.5],\n",
       "       [7.9, 3.8, 6.4, 2. ],\n",
       "       [5. , 3. , 1.6, 0.2],\n",
       "       [6.9, 3.1, 5.1, 2.3],\n",
       "       [4.6, 3.4, 1.4, 0.3],\n",
       "       [5. , 3.4, 1.5, 0.2],\n",
       "       [5.8, 2.7, 5.1, 1.9],\n",
       "       [7.6, 3. , 6.6, 2.1],\n",
       "       [5.4, 3.9, 1.3, 0.4],\n",
       "       [5. , 3.4, 1.6, 0.4],\n",
       "       [5. , 3.5, 1.3, 0.3],\n",
       "       [7.7, 2.6, 6.9, 2.3],\n",
       "       [6.1, 2.8, 4. , 1.3],\n",
       "       [4.6, 3.6, 1. , 0.2],\n",
       "       [6.6, 3. , 4.4, 1.4],\n",
       "       [6.4, 3.1, 5.5, 1.8],\n",
       "       [5.7, 4.4, 1.5, 0.4],\n",
       "       [5.7, 2.8, 4.1, 1.3]])"
      ]
     },
     "execution_count": 5,
     "metadata": {},
     "output_type": "execute_result"
    }
   ],
   "source": [
    "X_train"
   ]
  },
  {
   "cell_type": "code",
   "execution_count": 6,
   "id": "868a0c22",
   "metadata": {},
   "outputs": [
    {
     "data": {
      "text/plain": [
       "array([[4.6, 3.2, 1.4, 0.2],\n",
       "       [6.1, 2.8, 4.7, 1.2],\n",
       "       [6.4, 2.9, 4.3, 1.3],\n",
       "       [7.2, 3. , 5.8, 1.6],\n",
       "       [5.8, 2.7, 4.1, 1. ],\n",
       "       [5.5, 2.5, 4. , 1.3],\n",
       "       [6.8, 3.2, 5.9, 2.3],\n",
       "       [5.1, 3.7, 1.5, 0.4],\n",
       "       [6.7, 2.5, 5.8, 1.8],\n",
       "       [4.8, 3. , 1.4, 0.1],\n",
       "       [6.5, 3. , 5.2, 2. ],\n",
       "       [6.8, 2.8, 4.8, 1.4],\n",
       "       [6. , 2.2, 5. , 1.5],\n",
       "       [5. , 3.2, 1.2, 0.2],\n",
       "       [5.2, 3.4, 1.4, 0.2],\n",
       "       [7.7, 2.8, 6.7, 2. ],\n",
       "       [4.3, 3. , 1.1, 0.1],\n",
       "       [6.6, 2.9, 4.6, 1.3],\n",
       "       [5.8, 2.8, 5.1, 2.4],\n",
       "       [4.9, 2.4, 3.3, 1. ],\n",
       "       [7. , 3.2, 4.7, 1.4],\n",
       "       [5.9, 3. , 5.1, 1.8],\n",
       "       [6.4, 2.7, 5.3, 1.9],\n",
       "       [5.4, 3.4, 1.7, 0.2],\n",
       "       [6.3, 2.5, 4.9, 1.5],\n",
       "       [5.5, 2.4, 3.7, 1. ],\n",
       "       [5.1, 2.5, 3. , 1.1],\n",
       "       [4.9, 3.1, 1.5, 0.2],\n",
       "       [6.5, 3. , 5.8, 2.2],\n",
       "       [6.3, 2.8, 5.1, 1.5]])"
      ]
     },
     "execution_count": 6,
     "metadata": {},
     "output_type": "execute_result"
    }
   ],
   "source": [
    "X_test"
   ]
  },
  {
   "cell_type": "code",
   "execution_count": 7,
   "id": "d0a5d140",
   "metadata": {},
   "outputs": [
    {
     "data": {
      "text/plain": [
       "array([1, 1, 0, 0, 0, 2, 1, 0, 1, 2, 1, 2, 0, 1, 1, 0, 0, 0, 2, 0, 2, 2,\n",
       "       0, 2, 1, 1, 1, 0, 0, 1, 1, 1, 1, 1, 1, 1, 0, 1, 1, 0, 0, 1, 1, 1,\n",
       "       0, 0, 2, 0, 0, 1, 2, 2, 2, 2, 2, 2, 1, 2, 2, 2, 0, 2, 0, 0, 0, 2,\n",
       "       1, 1, 2, 2, 1, 0, 2, 0, 1, 2, 0, 1, 1, 2, 0, 0, 2, 2, 1, 1, 1, 2,\n",
       "       2, 0, 2, 0, 1, 0, 0, 2, 2, 2, 0, 0, 2, 1, 1, 2, 0, 2, 0, 0, 2, 2,\n",
       "       0, 0, 0, 2, 1, 0, 1, 2, 0, 1])"
      ]
     },
     "execution_count": 7,
     "metadata": {},
     "output_type": "execute_result"
    }
   ],
   "source": [
    "Y_train"
   ]
  },
  {
   "cell_type": "code",
   "execution_count": 8,
   "id": "c229512e",
   "metadata": {},
   "outputs": [
    {
     "data": {
      "text/plain": [
       "array([0, 1, 1, 2, 1, 1, 2, 0, 2, 0, 2, 1, 2, 0, 0, 2, 0, 1, 2, 1, 1, 2,\n",
       "       2, 0, 1, 1, 1, 0, 2, 2])"
      ]
     },
     "execution_count": 8,
     "metadata": {},
     "output_type": "execute_result"
    }
   ],
   "source": [
    "Y_test"
   ]
  },
  {
   "cell_type": "markdown",
   "id": "f507c6b3",
   "metadata": {},
   "source": [
    "## SVM"
   ]
  },
  {
   "cell_type": "code",
   "execution_count": 10,
   "id": "b0f3e85c",
   "metadata": {},
   "outputs": [],
   "source": [
    "from sklearn.svm import SVC"
   ]
  },
  {
   "cell_type": "code",
   "execution_count": 11,
   "id": "83ee46d3",
   "metadata": {},
   "outputs": [],
   "source": [
    "clasificador = SVC(kernel='linear', C= 0.025)"
   ]
  },
  {
   "cell_type": "code",
   "execution_count": 12,
   "id": "1b8b2cd3",
   "metadata": {},
   "outputs": [
    {
     "data": {
      "text/plain": [
       "SVC(C=0.025, kernel='linear')"
      ]
     },
     "execution_count": 12,
     "metadata": {},
     "output_type": "execute_result"
    }
   ],
   "source": [
    "clasificador.fit(X_train, Y_train)"
   ]
  },
  {
   "cell_type": "code",
   "execution_count": 13,
   "id": "301751a3",
   "metadata": {},
   "outputs": [
    {
     "name": "stdout",
     "output_type": "stream",
     "text": [
      "Accuracy:  0.9666666666666667\n"
     ]
    }
   ],
   "source": [
    "print('Accuracy: ',clasificador.score(X_test, Y_test))"
   ]
  },
  {
   "cell_type": "markdown",
   "id": "e914c929",
   "metadata": {},
   "source": [
    "## Nearest Neighbors"
   ]
  },
  {
   "cell_type": "code",
   "execution_count": 35,
   "id": "c2aeade0",
   "metadata": {},
   "outputs": [],
   "source": [
    "from sklearn.neighbors import KNeighborsClassifier"
   ]
  },
  {
   "cell_type": "code",
   "execution_count": 37,
   "id": "4d97cf53",
   "metadata": {},
   "outputs": [
    {
     "data": {
      "text/plain": [
       "KNeighborsClassifier(n_neighbors=15)"
      ]
     },
     "execution_count": 37,
     "metadata": {},
     "output_type": "execute_result"
    }
   ],
   "source": [
    "X_train , X_test, y_train ,y_test =train_test_split(datos['data'], datos['target'], random_state=0)      \n",
    "knn = KNeighborsClassifier(n_neighbors=15)\n",
    "knn.fit(X_train ,y_train)"
   ]
  },
  {
   "cell_type": "code",
   "execution_count": 38,
   "id": "f594b9b5",
   "metadata": {},
   "outputs": [
    {
     "data": {
      "text/plain": [
       "0.9736842105263158"
      ]
     },
     "execution_count": 38,
     "metadata": {},
     "output_type": "execute_result"
    }
   ],
   "source": [
    "knn.score(X_test,y_test)"
   ]
  },
  {
   "cell_type": "code",
   "execution_count": 9,
   "id": "273c4b29",
   "metadata": {},
   "outputs": [],
   "source": [
    "from sklearn import svm"
   ]
  },
  {
   "cell_type": "markdown",
   "id": "f9c15e4b",
   "metadata": {},
   "source": [
    "## Decision Trees"
   ]
  },
  {
   "cell_type": "code",
   "execution_count": 40,
   "id": "c75baa71",
   "metadata": {},
   "outputs": [],
   "source": [
    "from sklearn.tree import DecisionTreeClassifier"
   ]
  },
  {
   "cell_type": "code",
   "execution_count": 41,
   "id": "f5dc7d03",
   "metadata": {},
   "outputs": [],
   "source": [
    "X_train , X_test, y_train ,y_test =train_test_split(datos['data'], datos['target'], random_state=0) \n"
   ]
  },
  {
   "cell_type": "code",
   "execution_count": 43,
   "id": "464f0d03",
   "metadata": {},
   "outputs": [],
   "source": [
    "clf = DecisionTreeClassifier()\n",
    "clf = clf.fit(X_train ,y_train)"
   ]
  },
  {
   "cell_type": "code",
   "execution_count": 44,
   "id": "e45c8043",
   "metadata": {},
   "outputs": [
    {
     "data": {
      "text/plain": [
       "0.9736842105263158"
      ]
     },
     "execution_count": 44,
     "metadata": {},
     "output_type": "execute_result"
    }
   ],
   "source": [
    "clf.score(X_test,y_test)"
   ]
  },
  {
   "cell_type": "code",
   "execution_count": 45,
   "id": "1aaa397c",
   "metadata": {},
   "outputs": [
    {
     "data": {
      "text/plain": [
       "[Text(133.92000000000002, 195.696, 'X[2] <= 2.35\\ngini = 0.665\\nsamples = 112\\nvalue = [37, 34, 41]'),\n",
       " Text(100.44000000000001, 152.208, 'gini = 0.0\\nsamples = 37\\nvalue = [37, 0, 0]'),\n",
       " Text(167.40000000000003, 152.208, 'X[2] <= 4.95\\ngini = 0.496\\nsamples = 75\\nvalue = [0, 34, 41]'),\n",
       " Text(66.96000000000001, 108.72, 'X[3] <= 1.65\\ngini = 0.153\\nsamples = 36\\nvalue = [0, 33, 3]'),\n",
       " Text(33.480000000000004, 65.232, 'gini = 0.0\\nsamples = 32\\nvalue = [0, 32, 0]'),\n",
       " Text(100.44000000000001, 65.232, 'X[1] <= 3.1\\ngini = 0.375\\nsamples = 4\\nvalue = [0, 1, 3]'),\n",
       " Text(66.96000000000001, 21.744, 'gini = 0.0\\nsamples = 3\\nvalue = [0, 0, 3]'),\n",
       " Text(133.92000000000002, 21.744, 'gini = 0.0\\nsamples = 1\\nvalue = [0, 1, 0]'),\n",
       " Text(267.84000000000003, 108.72, 'X[2] <= 5.05\\ngini = 0.05\\nsamples = 39\\nvalue = [0, 1, 38]'),\n",
       " Text(234.36, 65.232, 'X[0] <= 6.5\\ngini = 0.375\\nsamples = 4\\nvalue = [0, 1, 3]'),\n",
       " Text(200.88000000000002, 21.744, 'gini = 0.0\\nsamples = 3\\nvalue = [0, 0, 3]'),\n",
       " Text(267.84000000000003, 21.744, 'gini = 0.0\\nsamples = 1\\nvalue = [0, 1, 0]'),\n",
       " Text(301.32000000000005, 65.232, 'gini = 0.0\\nsamples = 35\\nvalue = [0, 0, 35]')]"
      ]
     },
     "execution_count": 45,
     "metadata": {},
     "output_type": "execute_result"
    },
    {
     "data": {
      "image/png": "[encoded data removed]",
      "text/plain": [
       "<Figure size 432x288 with 1 Axes>"
      ]
     },
     "metadata": {
      "needs_background": "light"
     },
     "output_type": "display_data"
    }
   ],
   "source": [
    "tree.plot_tree(clf)"
   ]
  },
  {
   "cell_type": "markdown",
   "id": "73ebedc5",
   "metadata": {},
   "source": [
    "## Naive Bayes"
   ]
  },
  {
   "cell_type": "code",
   "execution_count": 46,
   "id": "c4690cfc",
   "metadata": {},
   "outputs": [],
   "source": [
    " from sklearn.naive_bayes import GaussianNB"
   ]
  },
  {
   "cell_type": "code",
   "execution_count": 48,
   "id": "3a2ccf54",
   "metadata": {},
   "outputs": [],
   "source": [
    "X, y = load_iris(return_X_y=True)"
   ]
  },
  {
   "cell_type": "code",
   "execution_count": 49,
   "id": "61966ce8",
   "metadata": {},
   "outputs": [],
   "source": [
    "X_train, X_test, y_train, y_test = train_test_split(X, y, test_size=0.5, random_state=0)"
   ]
  },
  {
   "cell_type": "code",
   "execution_count": 50,
   "id": "d3656ee7",
   "metadata": {},
   "outputs": [],
   "source": [
    "gnb = GaussianNB()"
   ]
  },
  {
   "cell_type": "code",
   "execution_count": 51,
   "id": "52f0fe37",
   "metadata": {},
   "outputs": [
    {
     "data": {
      "text/plain": [
       "GaussianNB()"
      ]
     },
     "execution_count": 51,
     "metadata": {},
     "output_type": "execute_result"
    }
   ],
   "source": [
    "gnb.fit(X_train, y_train)"
   ]
  },
  {
   "cell_type": "code",
   "execution_count": 52,
   "id": "0c695acb",
   "metadata": {},
   "outputs": [
    {
     "data": {
      "text/plain": [
       "0.9466666666666667"
      ]
     },
     "execution_count": 52,
     "metadata": {},
     "output_type": "execute_result"
    }
   ],
   "source": [
    "gnb.score(X_test,y_test)"
   ]
  },
  {
   "cell_type": "code",
   "execution_count": null,
   "id": "170c04e3",
   "metadata": {},
   "outputs": [],
   "source": []
  }
 ],
 "metadata": {
  "kernelspec": {
   "display_name": "Python 3 (ipykernel)",
   "language": "python",
   "name": "python3"
  },
  "language_info": {
   "codemirror_mode": {
    "name": "ipython",
    "version": 3
   },
   "file_extension": ".py",
   "mimetype": "text/x-python",
   "name": "python",
   "nbconvert_exporter": "python",
   "pygments_lexer": "ipython3",
   "version": "3.9.7"
  }
 },
 "nbformat": 4,
 "nbformat_minor": 5
}
